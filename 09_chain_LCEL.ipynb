{
 "cells": [
  {
   "cell_type": "markdown",
   "id": "cc720f17",
   "metadata": {},
   "source": [
    "# LCEL LangChainExpressionLanguage\n",
    "- 프롬프트 > LLM input > chain input > output > prompt\n",
    "\n",
    "Runnable 인터페이스 > 랭체인 구현"
   ]
  },
  {
   "cell_type": "markdown",
   "id": "2ee1ca26",
   "metadata": {},
   "source": [
    "# SequentialChain"
   ]
  },
  {
   "cell_type": "code",
   "execution_count": 1,
   "id": "69382e27",
   "metadata": {},
   "outputs": [
    {
     "data": {
      "text/plain": [
       "ChatOpenAI(client=<openai.resources.chat.completions.completions.Completions object at 0x00000204663D2E10>, async_client=<openai.resources.chat.completions.completions.AsyncCompletions object at 0x0000020466607650>, root_client=<openai.OpenAI object at 0x000002046647A4E0>, root_async_client=<openai.AsyncOpenAI object at 0x000002046642D100>, model_name='gpt-4o-mini', model_kwargs={}, openai_api_key=SecretStr('**********'))"
      ]
     },
     "execution_count": 1,
     "metadata": {},
     "output_type": "execute_result"
    }
   ],
   "source": [
    "from langchain_openai import ChatOpenAI\n",
    "llm = ChatOpenAI(model='gpt-4o-mini')\n",
    "llm"
   ]
  },
  {
   "cell_type": "code",
   "execution_count": 2,
   "id": "b5210041",
   "metadata": {},
   "outputs": [
    {
     "name": "stderr",
     "output_type": "stream",
     "text": [
      "C:\\Users\\Admin\\AppData\\Local\\Temp\\ipykernel_12604\\360414958.py:4: LangChainDeprecationWarning: The class `LLMChain` was deprecated in LangChain 0.1.17 and will be removed in 1.0. Use :meth:`~RunnableSequence, e.g., `prompt | llm`` instead.\n",
      "  chain = LLMChain(llm=llm, prompt=template)\n"
     ]
    },
    {
     "data": {
      "text/plain": [
       "LLMChain(verbose=False, prompt=PromptTemplate(input_variables=['city'], input_types={}, partial_variables={}, template='{city}의 랜드마크는 어디인가요?'), llm=ChatOpenAI(client=<openai.resources.chat.completions.completions.Completions object at 0x00000204663D2E10>, async_client=<openai.resources.chat.completions.completions.AsyncCompletions object at 0x0000020466607650>, root_client=<openai.OpenAI object at 0x000002046647A4E0>, root_async_client=<openai.AsyncOpenAI object at 0x000002046642D100>, model_name='gpt-4o-mini', model_kwargs={}, openai_api_key=SecretStr('**********')), output_parser=StrOutputParser(), llm_kwargs={})"
      ]
     },
     "execution_count": 2,
     "metadata": {},
     "output_type": "execute_result"
    }
   ],
   "source": [
    "from langchain.prompts import PromptTemplate\n",
    "from langchain.chains import LLMChain\n",
    "template = PromptTemplate.from_template(\"{city}의 랜드마크는 어디인가요?\")\n",
    "chain = LLMChain(llm=llm, prompt=template)\n",
    "chain"
   ]
  },
  {
   "cell_type": "code",
   "execution_count": 3,
   "id": "e4c1decf",
   "metadata": {},
   "outputs": [
    {
     "data": {
      "text/plain": [
       "{'city': '샌프란시스코',\n",
       " 'text': '샌프란시스코의 주요 랜드마크는 다음과 같습니다:\\n\\n1. **골든 게이트 브리지 (Golden Gate Bridge)** - 샌프란시스코의 상징적인 다리로, 세계에서 가장 사진이 많이 찍히는 장소 중 하나입니다.\\n\\n2. **알카트라즈 섬 (Alcatraz Island)** - 유명한 교도소가 있었던 섬으로, 현재는 관광지로 개방되어 있습니다.\\n\\n3. **피어 39 (Pier 39)** - 상점, 레스토랑, 해양 생물 관찰 등 다양한 볼거리가 있는 해안가의 명소입니다.\\n\\n4. **유니온 스퀘어 (Union Square)** - 쇼핑, 예술, 문화가 어우러지는 도심 지역으로, 다양한 상점과 갤러리가 있습니다.\\n\\n5. **링컨 파크 (Lincoln Park)** - 자연 경관과 함께 아름다운 골든 게이트 브리지 전망을 제공하는 공원입니다.\\n\\n6. **차이나타운 (Chinatown)** - 미국 내 가장 큰 중국 공동체로, 중국 문화와 음식을 체험할 수 있는 지역입니다.\\n\\n7. **코이트 타워 (Coit Tower)** - 시내를 한눈에 바라볼 수 있는 전망대와 벽화가 있는 타워입니다.\\n\\n이 외에도 샌프란시스코에는 많은 명소와 볼거리가 있습니다!'}"
      ]
     },
     "execution_count": 3,
     "metadata": {},
     "output_type": "execute_result"
    }
   ],
   "source": [
    "chain.invoke({'city':'샌프란시스코'})"
   ]
  },
  {
   "cell_type": "markdown",
   "id": "753b3d8d",
   "metadata": {},
   "source": [
    "# LCEL 파이프라인 구성"
   ]
  },
  {
   "cell_type": "code",
   "execution_count": 4,
   "id": "1b40cf62",
   "metadata": {},
   "outputs": [
    {
     "data": {
      "text/plain": [
       "PromptTemplate(input_variables=['city'], input_types={}, partial_variables={}, template='{city}의 랜드마크는 어디인가요?')\n",
       "| ChatOpenAI(client=<openai.resources.chat.completions.completions.Completions object at 0x00000204663D2E10>, async_client=<openai.resources.chat.completions.completions.AsyncCompletions object at 0x0000020466607650>, root_client=<openai.OpenAI object at 0x000002046647A4E0>, root_async_client=<openai.AsyncOpenAI object at 0x000002046642D100>, model_name='gpt-4o-mini', model_kwargs={}, openai_api_key=SecretStr('**********'))"
      ]
     },
     "execution_count": 4,
     "metadata": {},
     "output_type": "execute_result"
    }
   ],
   "source": [
    "chain_lcel = template | llm\n",
    "chain_lcel"
   ]
  },
  {
   "cell_type": "code",
   "execution_count": 5,
   "id": "04a40d69",
   "metadata": {},
   "outputs": [
    {
     "data": {
      "text/plain": [
       "AIMessage(content='샌프란시스코의 랜드마크로는 여러 곳이 있습니다. 가장 유명한 랜드마크는 금문교(Golden Gate Bridge)입니다. 이 다리는 샌프란시스코와 마린 카운티를 연결하며, 아름다운 경관으로 많은 관광객들이 찾습니다.\\n\\n또한 알카트라즈 섬(Alcatraz Island)도 유명한 관광지로, 한때 교도소로 사용되었던 역사적인 장소입니다. 피셔맨스 워프(Fisherman\\'s Wharf)는 관광과 식사를 즐길 수 있는 활기찬 지역이며, 롬바르드 스트리트(Lombard Street)는 \"가장 구불구불한 거리\"로 잘 알려져 있습니다.\\n\\n이외에도 차이니타운(Chinatown), 샌프란시스코 현대 미술관(San Francisco Museum of Modern Art), 유니언 스퀘어(Union Square) 등 다양한 랜드마크가 있습니다.', additional_kwargs={'refusal': None}, response_metadata={'token_usage': {'completion_tokens': 210, 'prompt_tokens': 24, 'total_tokens': 234, 'completion_tokens_details': {'accepted_prediction_tokens': 0, 'audio_tokens': 0, 'reasoning_tokens': 0, 'rejected_prediction_tokens': 0}, 'prompt_tokens_details': {'audio_tokens': 0, 'cached_tokens': 0}}, 'model_name': 'gpt-4o-mini-2024-07-18', 'system_fingerprint': 'fp_8bda4d3a2c', 'id': 'chatcmpl-CDMz89b4sf8fPQYSAe8vKJp4kp0n9', 'service_tier': 'default', 'finish_reason': 'stop', 'logprobs': None}, id='run--a5972224-a4f5-4916-9ed5-cb57ae0a928a-0', usage_metadata={'input_tokens': 24, 'output_tokens': 210, 'total_tokens': 234, 'input_token_details': {'audio': 0, 'cache_read': 0}, 'output_token_details': {'audio': 0, 'reasoning': 0}})"
      ]
     },
     "execution_count": 5,
     "metadata": {},
     "output_type": "execute_result"
    }
   ],
   "source": [
    "chain_lcel.invoke({'city':'샌프란시스코'})"
   ]
  },
  {
   "cell_type": "markdown",
   "id": "e17ee839",
   "metadata": {},
   "source": [
    "# Sequential chain의 구성"
   ]
  },
  {
   "cell_type": "code",
   "execution_count": 6,
   "id": "5326759b",
   "metadata": {},
   "outputs": [
    {
     "data": {
      "text/plain": [
       "SequentialChain(verbose=False, chains=[LLMChain(verbose=True, prompt=PromptTemplate(input_variables=['city'], input_types={}, partial_variables={}, template='{city}의 랜드마크를 1개만 알려줘. 설명 없이 이름만 1개 알려줘.'), llm=ChatOpenAI(client=<openai.resources.chat.completions.completions.Completions object at 0x00000204663D2E10>, async_client=<openai.resources.chat.completions.completions.AsyncCompletions object at 0x0000020466607650>, root_client=<openai.OpenAI object at 0x000002046647A4E0>, root_async_client=<openai.AsyncOpenAI object at 0x000002046642D100>, model_name='gpt-4o-mini', model_kwargs={}, openai_api_key=SecretStr('**********')), output_key='landmark', output_parser=StrOutputParser(), llm_kwargs={}), LLMChain(verbose=False, prompt=PromptTemplate(input_variables=['landmark', 'transport'], input_types={}, partial_variables={}, template='{landmark}에 {transport}로 가는 방법이 뭐야?'), llm=ChatOpenAI(client=<openai.resources.chat.completions.completions.Completions object at 0x00000204663D2E10>, async_client=<openai.resources.chat.completions.completions.AsyncCompletions object at 0x0000020466607650>, root_client=<openai.OpenAI object at 0x000002046647A4E0>, root_async_client=<openai.AsyncOpenAI object at 0x000002046642D100>, model_name='gpt-4o-mini', model_kwargs={}, openai_api_key=SecretStr('**********')), output_parser=StrOutputParser(), llm_kwargs={})], input_variables=['city', 'transport'], output_variables=['text'])"
      ]
     },
     "execution_count": 6,
     "metadata": {},
     "output_type": "execute_result"
    }
   ],
   "source": [
    "from langchain.chains import SequentialChain\n",
    "prompt1 = PromptTemplate.from_template('{city}의 랜드마크를 1개만 알려줘. 설명 없이 이름만 1개 알려줘.')\n",
    "prompt2 = PromptTemplate.from_template('{landmark}에 {transport}로 가는 방법이 뭐야?')\n",
    "\n",
    "chain1 = LLMChain(llm=llm, prompt=prompt1, output_key='landmark', verbose=True)\n",
    "chain2 = LLMChain(llm=llm, prompt=prompt2)\n",
    "seq_chain = SequentialChain(chains=[chain1, chain2], input_variables=['city', 'transport'])\n",
    "seq_chain"
   ]
  },
  {
   "cell_type": "code",
   "execution_count": 7,
   "id": "cbbfc313",
   "metadata": {},
   "outputs": [
    {
     "name": "stdout",
     "output_type": "stream",
     "text": [
      "\n",
      "\n",
      "\u001b[1m> Entering new LLMChain chain...\u001b[0m\n",
      "Prompt after formatting:\n",
      "\u001b[32;1m\u001b[1;3mseoul의 랜드마크를 1개만 알려줘. 설명 없이 이름만 1개 알려줘.\u001b[0m\n",
      "\n",
      "\u001b[1m> Finished chain.\u001b[0m\n"
     ]
    },
    {
     "data": {
      "text/plain": [
       "{'city': 'seoul',\n",
       " 'transport': '지하철',\n",
       " 'text': '남산타워(N 서울타워)로 가는 가장 일반적인 방법은 지하철을 이용한 후, 남산타워까지 도보 또는 버스를 이용하는 것입니다. 아래는 일반적인 경로입니다.\\n\\n1. **지하철 이용하기**:\\n   - 서울 지하철 4호선 **명동역**(Myeongdong Station)에서 하차합니다. 3번 출구로 나옵니다.\\n\\n2. **남산타워로 가는 방법**:\\n   - **도보**: 명동역 3번 출구에서 나와서 남산을 향해 도보로 올라가면 약 20~30분 정도 소요됩니다. 도중에 남산 순환도로를 따라 가면 좋습니다.\\n   - **버스**: 명동역에서 남산타워로 가는 버스를 탈 수 있습니다. 맞은편에 위치한 **남산 02** 번 버스를 타면 됩니다. 해당 버스는 남산 케이블카와 남산타워에 정차합니다.\\n\\n이 외에도 택시를 이용하여 직접 남산타워까지 갈 수도 있습니다. 남산타워를 방문할 때는 운영 시간과 입장 요금을 미리 확인하는 것이 좋습니다.'}"
      ]
     },
     "execution_count": 7,
     "metadata": {},
     "output_type": "execute_result"
    }
   ],
   "source": [
    "seq_chain.invoke({'city':'seoul', 'transport':'지하철'})"
   ]
  },
  {
   "cell_type": "code",
   "execution_count": null,
   "id": "b67d4600",
   "metadata": {},
   "outputs": [],
   "source": []
  }
 ],
 "metadata": {
  "kernelspec": {
   "display_name": "prompting_env",
   "language": "python",
   "name": "python3"
  },
  "language_info": {
   "codemirror_mode": {
    "name": "ipython",
    "version": 3
   },
   "file_extension": ".py",
   "mimetype": "text/x-python",
   "name": "python",
   "nbconvert_exporter": "python",
   "pygments_lexer": "ipython3",
   "version": "3.12.11"
  }
 },
 "nbformat": 4,
 "nbformat_minor": 5
}
