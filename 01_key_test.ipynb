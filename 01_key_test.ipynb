{
 "cells": [
  {
   "cell_type": "code",
   "execution_count": null,
   "id": "c8335675",
   "metadata": {},
   "outputs": [
    {
     "name": "stdout",
     "output_type": "stream",
     "text": [
      "API Key configured: True\n"
     ]
    }
   ],
   "source": [
    "from dotenv import load_dotenv\n",
    "import os\n",
    "\n",
    "# .env 파일에서 환경 변수 불러오기\n",
    "load_dotenv()\n",
    "\n",
    "# 환경 변수 읽기\n",
    "openai_api_key = os.getenv(\"OPENAI_API_KEY\")\n",
    "\n",
    "# OpenAI 라이브러리가 환경 변수에서 키를 읽을 수 있도록 설정\n",
    "if openai_api_key:\n",
    "    os.environ[\"OPENAI_API_KEY\"] = openai_api_key\n",
    "\n",
    "print(\"API Key configured:\", \"OPENAI_API_KEY\" in os.environ)"
   ]
  },
  {
   "cell_type": "code",
   "execution_count": 1,
   "id": "14071ca8",
   "metadata": {},
   "outputs": [
    {
     "data": {
      "text/plain": [
       "'1.100.2'"
      ]
     },
     "execution_count": 1,
     "metadata": {},
     "output_type": "execute_result"
    }
   ],
   "source": [
    "import openai\n",
    "openai.__version__"
   ]
  },
  {
   "cell_type": "code",
   "execution_count": 8,
   "id": "24e3312f",
   "metadata": {},
   "outputs": [],
   "source": [
    "# Responses"
   ]
  },
  {
   "cell_type": "code",
   "execution_count": 4,
   "id": "90714256",
   "metadata": {},
   "outputs": [],
   "source": [
    "from openai import OpenAI\n",
    "client = OpenAI()\n",
    "\n",
    "response = client.responses.create(\n",
    "  model=\"gpt-4o-mini\",\n",
    "  input=[\n",
    "    {\n",
    "      \"role\": \"system\",\n",
    "      \"content\": [\n",
    "        {\n",
    "          \"type\": \"input_text\",\n",
    "          \"text\": \"답변을 할 때는 세부 목록을 만들어서 보여줘. \"\n",
    "        }\n",
    "      ]\n",
    "    },\n",
    "    {\n",
    "      \"role\": \"user\",\n",
    "      \"content\": [\n",
    "        {\n",
    "          \"type\": \"input_text\",\n",
    "          \"text\": \"혜성은?\"\n",
    "        }\n",
    "      ]\n",
    "    },\n",
    "    {\n",
    "      \"id\": \"msg_68a7c7d710888195aead535c894b08b30b4161ae299d4c5b\",\n",
    "      \"role\": \"assistant\",\n",
    "      \"content\": [\n",
    "        {\n",
    "          \"type\": \"output_text\",\n",
    "          \"text\": \"혜성에 대해 알아보겠습니다. 아래는 혜성의 주요 특성과 관련된 내용입니다.\\n\\n### 1. 기본 개념\\n- **정의**: 혜성은 태양 주위를 돌며, 얼음과 먼지로 구성된 천체입니다.\\n\\n### 2. 구성 요소\\n- **핵**: 얼음, 먼지 및 암석으로 이루어진 중심 부분\\n- **코마**: 태양의 열에 의해 핵에서 발산되는 기체와 먼지로 구성된 구름\\n- **꼬리**: 태양풍과 방사선에 의해 코마에서 분리된 물질이 형성하는 긴 줄\\n\\n### 3. 혜성의 분류\\n- **주기 혜성**: 주기가 짧아(몇 년에서 수십 년) 정기적으로 태양을 근접\\n- **장주기 혜성**: 주기가 긴 (몇 백에서 몇 천 년) 궤도를 가짐\\n\\n### 4. 혜성이 유명한 이유\\n- **구름의 아름다움**: 혜성이 가까이 올 때의 모습\\n- **천문학적 연구**: 원시 태양계의 상태와 성분을 이해하는 데 도움\\n\\n### 5. 관측\\n- **관측 방법**: 천체 망원경을 사용하거나 육안으로 관측\\n- **특수한 이벤트**: 혜성이 가까이 다가오는 때는 부분 일식처럼 드라마틱한 경과를 발생\\n\\n### 6. 역사적 사례\\n- **할리 혜성**: 가장 유명하고 정기적으로 관찰되는 혜성으로 약 76년 주기로 나타남\\n- **헤이룬-뮬러 혜성**: 1997년에 발견된 혜성으로, 태양과 가까워질 때 큰 주목을 받음\\n\\n### 7. 과학적 중요성\\n- **우주 탐사**: 혜성은 초기 태양계의 화학 성분을 보여줌\\n- **생명의 기원**: 일부 연구자들은 혜성이 지구에 물과 유기물질을 가져왔을 가능성이 있다고 주장\\n\\n혜성은 우주에서 중요한 연구 주제이며, 아름다운 장관을 제공하는 천체입니다.\"\n",
    "        }\n",
    "      ]\n",
    "    }\n",
    "  ],\n",
    "  text={\n",
    "    \"format\": {\n",
    "      \"type\": \"text\"\n",
    "    }\n",
    "  },\n",
    "  reasoning={},\n",
    "  tools=[],\n",
    "  temperature=1,\n",
    "  max_output_tokens=10000,\n",
    "  top_p=1,\n",
    "  store=True\n",
    ")"
   ]
  },
  {
   "cell_type": "code",
   "execution_count": 5,
   "id": "0e0285a4",
   "metadata": {},
   "outputs": [
    {
     "data": {
      "text/plain": [
       "Response(id='resp_68a7c7f2bd1481959f920b398b6684db0b4161ae299d4c5b', created_at=1755826162.0, error=None, incomplete_details=None, instructions=None, metadata={}, model='gpt-4o-mini-2024-07-18', object='response', output=[ResponseOutputMessage(id='msg_68a7c7f392ac8195a7f348f7d2312beb0b4161ae299d4c5b', content=[ResponseOutputText(annotations=[], text='혜성에 대한 내용을 정리한 목록입니다:\\n\\n### 1. 기본 개념\\n- **정의**: 태양 주위를 도는 얼음과 먼지로 구성된 천체.\\n\\n### 2. 구성 요소\\n- **핵**: 얼음, 먼지, 암석으로 이루어진 중심 부분.\\n- **코마**: 태양의 열에 의해 핵에서 발생하는 기체와 먼지로 구성된 구름.\\n- **꼬리**: 태양풍과 방사선에 의해 분리된 물질로 형성되는 긴 줄.\\n\\n### 3. 혜성의 분류\\n- **주기 혜성**: 짧은 주기를 가진 혜성 (수년에서 수십 년).\\n- **장주기 혜성**: 긴 주기를 가진 혜성 (수백에서 수천 년).\\n\\n### 4. 혜성이 유명한 이유\\n- **구름의 아름다움**: 가까이 왔을 때의 인상적인 모습.\\n- **천문학적 연구**: 원시 태양계의 상태와 화학 성분을 탐구.\\n\\n### 5. 관측\\n- **관측 방법**: 천체 망원경이나 육안으로 관찰.\\n- **특수한 이벤트**: 혜성이 가까이 다가올 때의 드라마틱한 천체 현상.\\n\\n### 6. 역사적 사례\\n- **할리 혜성**: 76년 주기로 나타나는 가장 유명한 혜성.\\n- **헤이룬-뮬러 혜성**: 1997년에 발견된 혜성으로 큰 관심을 끌었음.\\n\\n### 7. 과학적 중요성\\n- **우주 탐사**: 초기 태양계의 화학 성분을 이해하는 데 기여.\\n- **생명의 기원**: 혜성이 지구에 물과 유기물질을 가져왔을 가능성 연구.\\n\\n이 정보를 통해 혜성의 다양한 측면을 이해할 수 있습니다.', type='output_text', logprobs=[])], role='assistant', status='completed', type='message')], parallel_tool_calls=True, temperature=1.0, tool_choice='auto', tools=[], top_p=1.0, background=False, max_output_tokens=10000, max_tool_calls=None, previous_response_id=None, prompt=None, prompt_cache_key=None, reasoning=Reasoning(effort=None, generate_summary=None, summary=None), safety_identifier=None, service_tier='default', status='completed', text=ResponseTextConfig(format=ResponseFormatText(type='text'), verbosity='medium'), top_logprobs=0, truncation='disabled', usage=ResponseUsage(input_tokens=538, input_tokens_details=InputTokensDetails(cached_tokens=0), output_tokens=442, output_tokens_details=OutputTokensDetails(reasoning_tokens=0), total_tokens=980), user=None, store=True)"
      ]
     },
     "execution_count": 5,
     "metadata": {},
     "output_type": "execute_result"
    }
   ],
   "source": [
    "response"
   ]
  },
  {
   "cell_type": "code",
   "execution_count": null,
   "id": "cf91552b",
   "metadata": {},
   "outputs": [],
   "source": []
  },
  {
   "cell_type": "code",
   "execution_count": 9,
   "id": "09714d6d",
   "metadata": {},
   "outputs": [],
   "source": [
    "# Chat Completions"
   ]
  },
  {
   "cell_type": "code",
   "execution_count": 6,
   "id": "83ac8092",
   "metadata": {},
   "outputs": [],
   "source": [
    "from openai import OpenAI\n",
    "client = OpenAI()\n",
    "\n",
    "response = client.chat.completions.create(\n",
    "  model=\"gpt-4o-mini\",\n",
    "  messages=[\n",
    "    {\n",
    "      \"role\": \"system\",\n",
    "      \"content\": [\n",
    "        {\n",
    "          \"type\": \"text\",\n",
    "          \"text\": \"답변을 할 때는 세부 목록을 만들어서 보여줘. \"\n",
    "        }\n",
    "      ]\n",
    "    },\n",
    "    {\n",
    "      \"role\": \"user\",\n",
    "      \"content\": [\n",
    "        {\n",
    "          \"type\": \"text\",\n",
    "          \"text\": \"혜성은?\"\n",
    "        }\n",
    "      ]\n",
    "    },\n",
    "    {\n",
    "      \"role\": \"assistant\",\n",
    "      \"content\": [\n",
    "        {\n",
    "          \"type\": \"text\",\n",
    "          \"text\": \"혜성에 대해 알아보겠습니다. 아래는 혜성의 주요 특성과 관련된 내용입니다.\\n\\n### 1. 기본 개념\\n- **정의**: 혜성은 태양 주위를 돌며, 얼음과 먼지로 구성된 천체입니다.\\n\\n### 2. 구성 요소\\n- **핵**: 얼음, 먼지 및 암석으로 이루어진 중심 부분\\n- **코마**: 태양의 열에 의해 핵에서 발산되는 기체와 먼지로 구성된 구름\\n- **꼬리**: 태양풍과 방사선에 의해 코마에서 분리된 물질이 형성하는 긴 줄\\n\\n### 3. 혜성의 분류\\n- **주기 혜성**: 주기가 짧아(몇 년에서 수십 년) 정기적으로 태양을 근접\\n- **장주기 혜성**: 주기가 긴 (몇 백에서 몇 천 년) 궤도를 가짐\\n\\n### 4. 혜성이 유명한 이유\\n- **구름의 아름다움**: 혜성이 가까이 올 때의 모습\\n- **천문학적 연구**: 원시 태양계의 상태와 성분을 이해하는 데 도움\\n\\n### 5. 관측\\n- **관측 방법**: 천체 망원경을 사용하거나 육안으로 관측\\n- **특수한 이벤트**: 혜성이 가까이 다가오는 때는 부분 일식처럼 드라마틱한 경과를 발생\\n\\n### 6. 역사적 사례\\n- **할리 혜성**: 가장 유명하고 정기적으로 관찰되는 혜성으로 약 76년 주기로 나타남\\n- **헤이룬-뮬러 혜성**: 1997년에 발견된 혜성으로, 태양과 가까워질 때 큰 주목을 받음\\n\\n### 7. 과학적 중요성\\n- **우주 탐사**: 혜성은 초기 태양계의 화학 성분을 보여줌\\n- **생명의 기원**: 일부 연구자들은 혜성이 지구에 물과 유기물질을 가져왔을 가능성이 있다고 주장\\n\\n혜성은 우주에서 중요한 연구 주제이며, 아름다운 장관을 제공하는 천체입니다.\"\n",
    "        }\n",
    "      ]\n",
    "    }\n",
    "  ],\n",
    "  response_format={\n",
    "    \"type\": \"text\"\n",
    "  },\n",
    "  temperature=1,\n",
    "  max_completion_tokens=10000,\n",
    "  top_p=1,\n",
    "  frequency_penalty=0,\n",
    "  presence_penalty=0\n",
    ")"
   ]
  },
  {
   "cell_type": "code",
   "execution_count": 7,
   "id": "016d7041",
   "metadata": {},
   "outputs": [
    {
     "data": {
      "text/plain": [
       "ChatCompletion(id='chatcmpl-C7AtRRJHAhvIPrMJB3LoIgvFqNeZr', choices=[Choice(finish_reason='stop', index=0, logprobs=None, message=ChatCompletionMessage(content='혜성에 대해 알아보겠습니다. 아래는 혜성의 주요 특성과 관련된 내용입니다.\\n\\n### 1. 기본 개념\\n- **정의**: 혜성은 태양 주위를 돌며, 얼음과 먼지로 구성된 천체입니다.\\n\\n### 2. 구성 요소\\n- **핵**: 얼음, 먼지 및 암석으로 이루어진 중심 부분\\n- **코마**: 태양의 열에 의해 핵에서 발산되는 기체와 먼지로 구성된 구름\\n- **꼬리**: 태양풍과 방사선에 의해 코마에서 분리된 물질이 형성하는 긴 줄\\n\\n### 3. 혜성의 분류\\n- **주기 혜성**: 주기가 짧아(몇 년에서 수십 년) 정기적으로 태양을 근접\\n- **장주기 혜성**: 주기가 긴 (몇 백에서 몇 천 년) 궤도를 가짐\\n\\n### 4. 혜성이 유명한 이유\\n- **구름의 아름다움**: 혜성이 가까이 올 때의 모습\\n- **천문학적 연구**: 원시 태양계의 상태와 성분을 이해하는 데 도움\\n\\n### 5. 관측\\n- **관측 방법**: 천체 망원경을 사용하거나 육안으로 관측\\n- **특수한 이벤트**: 혜성이 가까이 다가오는 때는 부분 일식처럼 드라마틱한 경과를 발생\\n\\n### 6. 역사적 사례\\n- **할리 혜성**: 가장 유명하고 정기적으로 관찰되는 혜성으로 약 76년 주기로 나타남\\n- **헤이룬-뮬러 혜성**: 1997년에 발견된 혜성으로, 태양과 가까워질 때 큰 주목을 받음\\n\\n### 7. 과학적 중요성\\n- **우주 탐사**: 혜성은 초기 태양계의 화학 성분을 보여줌\\n- **생명의 기원**: 일부 연구자들은 혜성이 지구에 물과 유기물질을 가져왔을 가능성이 있다고 주장\\n\\n혜성은 우주에서 중요한 연구 주제이며, 아름다운 장관을 제공하는 천체입니다.', refusal=None, role='assistant', annotations=[], audio=None, function_call=None, tool_calls=None))], created=1755826205, model='gpt-4o-mini-2024-07-18', object='chat.completion', service_tier='default', system_fingerprint='fp_62a23a81ef', usage=CompletionUsage(completion_tokens=503, prompt_tokens=538, total_tokens=1041, completion_tokens_details=CompletionTokensDetails(accepted_prediction_tokens=0, audio_tokens=0, reasoning_tokens=0, rejected_prediction_tokens=0), prompt_tokens_details=PromptTokensDetails(audio_tokens=0, cached_tokens=0)))"
      ]
     },
     "execution_count": 7,
     "metadata": {},
     "output_type": "execute_result"
    }
   ],
   "source": [
    "response"
   ]
  },
  {
   "cell_type": "code",
   "execution_count": null,
   "id": "7db64695",
   "metadata": {},
   "outputs": [],
   "source": []
  },
  {
   "cell_type": "code",
   "execution_count": null,
   "id": "11788a2b",
   "metadata": {},
   "outputs": [],
   "source": []
  }
 ],
 "metadata": {
  "kernelspec": {
   "display_name": "prompting_env",
   "language": "python",
   "name": "python3"
  },
  "language_info": {
   "codemirror_mode": {
    "name": "ipython",
    "version": 3
   },
   "file_extension": ".py",
   "mimetype": "text/x-python",
   "name": "python",
   "nbconvert_exporter": "python",
   "pygments_lexer": "ipython3",
   "version": "3.12.11"
  }
 },
 "nbformat": 4,
 "nbformat_minor": 5
}
