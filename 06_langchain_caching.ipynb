{
 "cells": [
  {
   "cell_type": "markdown",
   "id": "e3eabc28",
   "metadata": {},
   "source": []
  },
  {
   "cell_type": "code",
   "execution_count": 1,
   "id": "782300f3",
   "metadata": {},
   "outputs": [
    {
     "data": {
      "text/plain": [
       "'0.3.27'"
      ]
     },
     "execution_count": 1,
     "metadata": {},
     "output_type": "execute_result"
    }
   ],
   "source": [
    "import langchain\n",
    "langchain.__version__"
   ]
  },
  {
   "cell_type": "code",
   "execution_count": 2,
   "id": "57a34148",
   "metadata": {},
   "outputs": [
    {
     "data": {
      "text/plain": [
       "ChatOpenAI(client=<openai.resources.chat.completions.completions.Completions object at 0x000002B696B47CB0>, async_client=<openai.resources.chat.completions.completions.AsyncCompletions object at 0x000002B6970283E0>, root_client=<openai.OpenAI object at 0x000002B69289F2C0>, root_async_client=<openai.AsyncOpenAI object at 0x000002B696B47E60>, model_name='gpt-4o-mini', model_kwargs={}, openai_api_key=SecretStr('**********'))"
      ]
     },
     "execution_count": 2,
     "metadata": {},
     "output_type": "execute_result"
    }
   ],
   "source": [
    "from langchain_openai import ChatOpenAI\n",
    "llm = ChatOpenAI(model='gpt-4o-mini')\n",
    "llm"
   ]
  },
  {
   "cell_type": "code",
   "execution_count": 4,
   "id": "2653e087",
   "metadata": {},
   "outputs": [
    {
     "data": {
      "text/plain": [
       "AIMessage(content='서울에는 훌륭한 프렌치 레스토랑이 많이 있습니다. 아래는 추천할 만한 5곳입니다.\\n\\n1. **라세느 (La Seine)**\\n   - 위치: 한남동\\n   - 수채화처럼 아름답게 꾸며진 공간에서 고급 프렌치 요리를 즐길 수 있습니다. 계절마다 변하는 메뉴가 특징입니다.\\n\\n2. **노트르담 (Notre Dame)**\\n   - 위치: 청담동\\n   - 정통 프랑스를 느낄 수 있는 분위기와 함께 다양한 와인을 갖춘 메뉴를 제공합니다. 특히 해산물 요리가 유명합니다.\\n\\n3. **마르쉐 (Marche)**\\n   - 위치: 이태원\\n   - 신선한 재료와 정통 프렌치 조리법으로 요리를 선보입니다. 아늑한 분위기에서 다양한 디너 코스가 인기입니다.\\n\\n4. **레르크르 (Le Rêve)**\\n   - 위치: 신사동\\n   - 세련된 인테리어와 함께 현대적인 프렌치 요리를 경험할 수 있는 장소입니다. 특별한 날에 방문하기 좋은 레스토랑입니다.\\n\\n5. **부조니 (Buzoni)**\\n   - 위치: 합정동\\n   - 프랑스식 브런치와 각종 디저트를 제공하는 아늑한 카페 스타일의 레스토랑입니다. 다양한 종류의 크레페와 타르트가 인기 메뉴입니다.\\n\\n각 레스토랑의 분위기와 메뉴도 다양하니, 방문하시고 싶은 스타일에 맞춰 선택하시면 좋겠습니다!', additional_kwargs={'refusal': None}, response_metadata={'token_usage': {'completion_tokens': 348, 'prompt_tokens': 22, 'total_tokens': 370, 'completion_tokens_details': {'accepted_prediction_tokens': 0, 'audio_tokens': 0, 'reasoning_tokens': 0, 'rejected_prediction_tokens': 0}, 'prompt_tokens_details': {'audio_tokens': 0, 'cached_tokens': 0}}, 'model_name': 'gpt-4o-mini-2024-07-18', 'system_fingerprint': 'fp_8bda4d3a2c', 'id': 'chatcmpl-CDL6U2W9m7KBfuqgIYfNCN6D5C74k', 'service_tier': 'default', 'finish_reason': 'stop', 'logprobs': None}, id='run--44490928-8afb-4667-9436-9747833cc2ee-0', usage_metadata={'input_tokens': 22, 'output_tokens': 348, 'total_tokens': 370, 'input_token_details': {'audio': 0, 'cache_read': 0}, 'output_token_details': {'audio': 0, 'reasoning': 0}})"
      ]
     },
     "execution_count": 4,
     "metadata": {},
     "output_type": "execute_result"
    }
   ],
   "source": [
    "from langchain_core.messages import HumanMessage\n",
    "message = [\n",
    "    HumanMessage(content='서울에 있는 프렌치 레스토랑 5개를 추천해주세요')\n",
    "]\n",
    "response = llm.invoke(message)\n",
    "response"
   ]
  },
  {
   "cell_type": "markdown",
   "id": "5fe22a82",
   "metadata": {},
   "source": [
    "# caching\n",
    "1. inmemorycache\n",
    "2. cache db"
   ]
  },
  {
   "cell_type": "code",
   "execution_count": 5,
   "id": "7c185fd3",
   "metadata": {},
   "outputs": [],
   "source": [
    "from langchain_core.globals import set_llm_cache\n",
    "from langchain_core.caches import InMemoryCache\n",
    "\n",
    "set_llm_cache(InMemoryCache())"
   ]
  },
  {
   "cell_type": "code",
   "execution_count": 8,
   "id": "60f3e4c3",
   "metadata": {},
   "outputs": [
    {
     "data": {
      "text/plain": [
       "AIMessage(content='서울에는 훌륭한 프렌치 레스토랑이 많이 있습니다. 다음은 추천할 만한 5곳입니다:\\n\\n1. **르 셰프 (Le Chef)**  \\n   - 위치: 강남구  \\n   - 특징: 현대적인 프랑스 요리를 선보이며 세련된 분위기에서 식사를 할 수 있는 곳입니다. 다양한 와인 리스트도 인상적입니다.\\n\\n2. **라세느 (La Seine)**  \\n   - 위치: 중구  \\n   - 특징: 고급 뷔페형 레스토랑으로, 프랑스 전통 요리와 다양한 국제 요리를 제공합니다. 멋진 전망과 함께 럭셔리한 식사를 즐길 수 있습니다.\\n\\n3. **클라쎄 (Classe)**  \\n   - 위치: 성북구  \\n   - 특징: 아늑한 분위기의 작은 레스토랑으로, 시즌별 신선한 재료를 활용한 창의적인 요리를 선보입니다. 고객 맞춤형 서비스도 인기가 있습니다.\\n\\n4. **르 카페 디올 (Le Café Dior)**  \\n   - 위치: 강남구  \\n   - 특징: 고급스러운 분위기에서 프렌치 디저트와 커피를 즐길 수 있는 카페이며, 디올의 브랜드이미지를 살린 독특한 인테리어가 매력적입니다.\\n\\n5. **비스트로 드 마망 (Bistro de Maman)**  \\n   - 위치: 용산구  \\n   - 특징: 편안하고 친근한 분위기에서 전통 프랑스 가정식을 제공합니다. 가격대도 합리적이어서 부담 없이 방문할 수 있는 곳입니다.\\n\\n각 레스토랑의 메뉴와 분위기는 다르니, 방문 전에 미리 확인해 보시고 마음에 드는 곳을 선택해보세요!', additional_kwargs={'refusal': None}, response_metadata={'token_usage': {'completion_tokens': 387, 'prompt_tokens': 22, 'total_tokens': 409, 'completion_tokens_details': {'accepted_prediction_tokens': 0, 'audio_tokens': 0, 'reasoning_tokens': 0, 'rejected_prediction_tokens': 0}, 'prompt_tokens_details': {'audio_tokens': 0, 'cached_tokens': 0}}, 'model_name': 'gpt-4o-mini-2024-07-18', 'system_fingerprint': 'fp_8bda4d3a2c', 'id': 'chatcmpl-CDL8ndXhVRhgtj5FPRB6WHhf9AHga', 'service_tier': 'default', 'finish_reason': 'stop', 'logprobs': None}, id='run--e2ab3ea1-2bd3-4c61-a8e3-a6ba3efa694f-0', usage_metadata={'input_tokens': 22, 'output_tokens': 387, 'total_tokens': 409, 'input_token_details': {'audio': 0, 'cache_read': 0}, 'output_token_details': {'audio': 0, 'reasoning': 0}, 'total_cost': 0})"
      ]
     },
     "execution_count": 8,
     "metadata": {},
     "output_type": "execute_result"
    }
   ],
   "source": [
    "response = llm.invoke(message)  # 처음 실행: 5.7s\n",
    "response"
   ]
  },
  {
   "cell_type": "code",
   "execution_count": 9,
   "id": "b4797173",
   "metadata": {},
   "outputs": [
    {
     "data": {
      "text/plain": [
       "ChatOpenAI(cache=False, client=<openai.resources.chat.completions.completions.Completions object at 0x000002B697086750>, async_client=<openai.resources.chat.completions.completions.AsyncCompletions object at 0x000002B69702B410>, root_client=<openai.OpenAI object at 0x000002B696B44380>, root_async_client=<openai.AsyncOpenAI object at 0x000002B696B44500>, model_name='gpt-4o-mini', model_kwargs={}, openai_api_key=SecretStr('**********'))"
      ]
     },
     "execution_count": 9,
     "metadata": {},
     "output_type": "execute_result"
    }
   ],
   "source": [
    "# 캐시 저장을 안하려면?\n",
    "llm1 = ChatOpenAI(model='gpt-4o-mini', cache=False)\n",
    "llm1"
   ]
  },
  {
   "cell_type": "markdown",
   "id": "efeede49",
   "metadata": {},
   "source": [
    "message다 동일해야함 -> 처음 실행시 캐싱함"
   ]
  },
  {
   "cell_type": "markdown",
   "id": "82d1728a",
   "metadata": {},
   "source": [
    "# redis client test"
   ]
  },
  {
   "cell_type": "code",
   "execution_count": 10,
   "id": "b31339a6",
   "metadata": {},
   "outputs": [
    {
     "name": "stdout",
     "output_type": "stream",
     "text": [
      "bar\n"
     ]
    }
   ],
   "source": [
    "\"\"\"Basic connection example.\n",
    "\"\"\"\n",
    "\n",
    "import redis\n",
    "\n",
    "r = redis.Redis(\n",
    "    host='redis-19531.c340.ap-northeast-2-1.ec2.redns.redis-cloud.com',\n",
    "    port=19531,\n",
    "    decode_responses=True,\n",
    "    username=\"default\",\n",
    "    password=\"8zBOcz0vcgXsCQnX2VV5M0GKsF8UZ6Po\",\n",
    ")\n",
    "\n",
    "success = r.set('foo', 'bar')\n",
    "# True\n",
    "\n",
    "result = r.get('foo')\n",
    "print(result)\n",
    "# >>> bar"
   ]
  },
  {
   "cell_type": "markdown",
   "id": "d4a1475e",
   "metadata": {},
   "source": [
    "# redis cache 설정"
   ]
  },
  {
   "cell_type": "code",
   "execution_count": 12,
   "id": "6ea352ab",
   "metadata": {},
   "outputs": [],
   "source": [
    "from langchain_community.cache import RedisCache\n",
    "from redis import Redis\n",
    "set_llm_cache(RedisCache(\n",
    "    redis_=Redis(\n",
    "        host='redis-19531.c340.ap-northeast-2-1.ec2.redns.redis-cloud.com',\n",
    "        port=19531,\n",
    "        password='8zBOcz0vcgXsCQnX2VV5M0GKsF8UZ6Po'\n",
    "    )\n",
    "))"
   ]
  },
  {
   "cell_type": "code",
   "execution_count": 17,
   "id": "31ccfc63",
   "metadata": {},
   "outputs": [
    {
     "data": {
      "text/plain": [
       "AIMessage(content='서울에는 맛있는 프렌치 레스토랑이 많이 있습니다. 다음은 추천할 만한 5곳입니다:\\n\\n1. **막스 앤 스페인 (Max & Spain)**  \\n   - 위치: 강남구  \\n   - 특성: 현대적인 분위기의 프렌치 레스토랑으로, 다양한 와인과 함께하는 고급스러운 다이닝 경험을 제공합니다.\\n\\n2. **라비앙로즈 (La Vie en Rose)**  \\n   - 위치: 용산구  \\n   - 특성: 아늑한 분위기에서 클래식한 프랑스 요리를 즐길 수 있는 곳으로, Brunch와 디너 메뉴가 뛰어납니다.\\n\\n3. **르 까르멘 (Le Carmen)**  \\n   - 위치: 마포구  \\n   - 특성: 프렌치 비스트로 스타일의 레스토랑으로, 신선한 재료로 만든 다양한 요리와 와인을 제공합니다.\\n\\n4. **블루스퀘어 (Blue Square)**  \\n   - 위치: 용산구  \\n   - 특성: 테라스가 있는 고급 레스토랑으로, 아름다운 경관과 함께 정통 프랑스 요리를 즐길 수 있습니다.\\n\\n5. **브라운 (Brown)**  \\n   - 위치: 성동구  \\n   - 특성: 세련된 인테리어와 따뜻한 분위기를 갖춘 프렌치 레스토랑으로, 다양한 디저트와 함께 특색 있는 메뉴를 제공합니다.\\n\\n각 레스토랑은 개성 있는 분위기와 요리를 제공하니, 방문해 보시기 바랍니다!', additional_kwargs={'refusal': None}, response_metadata={'token_usage': {'completion_tokens': 338, 'prompt_tokens': 22, 'total_tokens': 360, 'completion_tokens_details': {'accepted_prediction_tokens': 0, 'audio_tokens': 0, 'reasoning_tokens': 0, 'rejected_prediction_tokens': 0}, 'prompt_tokens_details': {'audio_tokens': 0, 'cached_tokens': 0}}, 'model_name': 'gpt-4o-mini-2024-07-18', 'system_fingerprint': 'fp_8bda4d3a2c', 'id': 'chatcmpl-CDLkbJSVoQMJVkF9Mg33rFXYXphM3', 'service_tier': 'default', 'finish_reason': 'stop', 'logprobs': None}, id='run--9a5bed6b-e46d-4974-9eea-8d26568fc701-0', usage_metadata={'input_tokens': 22, 'output_tokens': 338, 'total_tokens': 360, 'input_token_details': {'audio': 0, 'cache_read': 0}, 'output_token_details': {'audio': 0, 'reasoning': 0}, 'total_cost': 0})"
      ]
     },
     "execution_count": 17,
     "metadata": {},
     "output_type": "execute_result"
    }
   ],
   "source": [
    "response = llm.invoke(message) #5,3s\n",
    "response"
   ]
  },
  {
   "cell_type": "code",
   "execution_count": null,
   "id": "0b62c4ff",
   "metadata": {},
   "outputs": [],
   "source": []
  },
  {
   "cell_type": "code",
   "execution_count": null,
   "id": "b547bb8d",
   "metadata": {},
   "outputs": [],
   "source": []
  }
 ],
 "metadata": {
  "kernelspec": {
   "display_name": "prompting_env",
   "language": "python",
   "name": "python3"
  },
  "language_info": {
   "codemirror_mode": {
    "name": "ipython",
    "version": 3
   },
   "file_extension": ".py",
   "mimetype": "text/x-python",
   "name": "python",
   "nbconvert_exporter": "python",
   "pygments_lexer": "ipython3",
   "version": "3.12.11"
  }
 },
 "nbformat": 4,
 "nbformat_minor": 5
}
