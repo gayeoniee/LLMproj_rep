{
 "cells": [
  {
   "cell_type": "markdown",
   "id": "df23cde1",
   "metadata": {},
   "source": [
    "# prompt template"
   ]
  },
  {
   "cell_type": "code",
   "execution_count": null,
   "id": "5766aa0d",
   "metadata": {},
   "outputs": [
    {
     "data": {
      "text/plain": [
       "ChatOpenAI(client=<openai.resources.chat.completions.completions.Completions object at 0x000002B6B72BED50>, async_client=<openai.resources.chat.completions.completions.AsyncCompletions object at 0x000002B6B72BE5A0>, root_client=<openai.OpenAI object at 0x000002B697378DD0>, root_async_client=<openai.AsyncOpenAI object at 0x000002B6B72BE480>, model_name='gpt-4o-mini', model_kwargs={}, openai_api_key=SecretStr('**********'))"
      ]
     },
     "metadata": {},
     "output_type": "display_data"
    }
   ],
   "source": [
    "from langchain_openai import ChatOpenAI\n",
    "llm = ChatOpenAI(model='gpt-4o-mini')\n",
    "llm"
   ]
  },
  {
   "cell_type": "code",
   "execution_count": null,
   "id": "485bee51",
   "metadata": {},
   "outputs": [
    {
     "data": {
      "text/plain": [
       "'서울에서 유명한 프렌치 레스토랑을 알려주세요.'"
      ]
     },
     "metadata": {},
     "output_type": "display_data"
    }
   ],
   "source": [
    "from langchain.prompts import PromptTemplate\n",
    "template = PromptTemplate.from_template(\"{city}에서 {adj} {topic}을 알려주세요.\")\n",
    "prompt = template.format(city='서울', adj='유명한', topic='프렌치 레스토랑')\n",
    "prompt"
   ]
  },
  {
   "cell_type": "code",
   "execution_count": null,
   "id": "0845e020",
   "metadata": {},
   "outputs": [
    {
     "data": {
      "text/plain": [
       "AIMessage(content=\"서울에는 여러 유명한 프렌치 레스토랑이 있습니다. 그중 몇 가지를 소개해드릴게요:\\n\\n1. **라망 시크레 (L’Amitié)** - 유럽의 감성을 담아낸 아늑한 분위기와 정통 프렌치 요리를 제공합니다. 특히 와인 리스트가 다양해 식사와 함께 즐기기 좋습니다.\\n\\n2. **뷔브 (Buvette)** - 파리의 작은 비스트로 느낌을 살린 레스토랑으로, 아늑한 인테리어와 함께 다양한 프렌치 요리를 즐길 수 있습니다.\\n\\n3. **미쉐린 스타 레스토랑, '코롱 (Couronne)'** - 미쉐린 가이드에 선정된 레스토랑으로, 고급스러운 분위기에서 정통 프렌치 요리를 제공합니다.\\n\\n4. **르 까르벗 (Le Carre)** - 현대적인 프렌치 요리를 선보이는 레스토랑으로, 세련된 인테리어와 창의적인 메뉴가 특징입니다.\\n\\n5. **마르쉐 (Marche)** - 프랑스식 브런치와 디너를 제공하며, 신선한 제철 재료를 활용한 요리로 유명합니다.\\n\\n이 외에도 많은 프렌치 레스토랑이 있으니, 개인 취향에 맞는 곳을 찾아보시면 좋을 것 같습니다!\", additional_kwargs={'refusal': None}, response_metadata={'token_usage': {'completion_tokens': 300, 'prompt_tokens': 21, 'total_tokens': 321, 'completion_tokens_details': {'accepted_prediction_tokens': 0, 'audio_tokens': 0, 'reasoning_tokens': 0, 'rejected_prediction_tokens': 0}, 'prompt_tokens_details': {'audio_tokens': 0, 'cached_tokens': 0}}, 'model_name': 'gpt-4o-mini-2024-07-18', 'system_fingerprint': 'fp_8bda4d3a2c', 'id': 'chatcmpl-CDLuxslO3ErP8n30mXVkUqT4J4Exq', 'service_tier': 'default', 'finish_reason': 'stop', 'logprobs': None}, id='run--b6114864-e8f3-4f5f-bdd2-a56dd9489ff5-0', usage_metadata={'input_tokens': 21, 'output_tokens': 300, 'total_tokens': 321, 'input_token_details': {'audio': 0, 'cache_read': 0}, 'output_token_details': {'audio': 0, 'reasoning': 0}})"
      ]
     },
     "metadata": {},
     "output_type": "display_data"
    }
   ],
   "source": [
    "response = llm.invoke(prompt)\n",
    "response"
   ]
  },
  {
   "cell_type": "code",
   "execution_count": null,
   "id": "94ec5d7d",
   "metadata": {},
   "outputs": [
    {
     "name": "stdout",
     "output_type": "stream",
     "text": [
      "서울에는 여러 유명한 프렌치 레스토랑이 있습니다. 그중 몇 가지를 소개해드릴게요:\n",
      "\n",
      "1. **라망 시크레 (L’Amitié)** - 유럽의 감성을 담아낸 아늑한 분위기와 정통 프렌치 요리를 제공합니다. 특히 와인 리스트가 다양해 식사와 함께 즐기기 좋습니다.\n",
      "\n",
      "2. **뷔브 (Buvette)** - 파리의 작은 비스트로 느낌을 살린 레스토랑으로, 아늑한 인테리어와 함께 다양한 프렌치 요리를 즐길 수 있습니다.\n",
      "\n",
      "3. **미쉐린 스타 레스토랑, '코롱 (Couronne)'** - 미쉐린 가이드에 선정된 레스토랑으로, 고급스러운 분위기에서 정통 프렌치 요리를 제공합니다.\n",
      "\n",
      "4. **르 까르벗 (Le Carre)** - 현대적인 프렌치 요리를 선보이는 레스토랑으로, 세련된 인테리어와 창의적인 메뉴가 특징입니다.\n",
      "\n",
      "5. **마르쉐 (Marche)** - 프랑스식 브런치와 디너를 제공하며, 신선한 제철 재료를 활용한 요리로 유명합니다.\n",
      "\n",
      "이 외에도 많은 프렌치 레스토랑이 있으니, 개인 취향에 맞는 곳을 찾아보시면 좋을 것 같습니다!\n"
     ]
    }
   ],
   "source": [
    "print(response.content)"
   ]
  },
  {
   "cell_type": "markdown",
   "id": "f69a8efb",
   "metadata": {},
   "source": [
    "# template save"
   ]
  },
  {
   "cell_type": "code",
   "execution_count": null,
   "id": "a625d83b",
   "metadata": {},
   "outputs": [],
   "source": [
    "template.save('french_restaurant_prompt.json')"
   ]
  },
  {
   "cell_type": "code",
   "execution_count": null,
   "id": "4c5ffdf9",
   "metadata": {},
   "outputs": [
    {
     "data": {
      "text/plain": [
       "'부산에서 가장 멋진 박물관을 알려주세요.'"
      ]
     },
     "metadata": {},
     "output_type": "display_data"
    }
   ],
   "source": [
    "from langchain.prompts import load_prompt\n",
    "temp_load = load_prompt('french_restaurant_prompt.json')\n",
    "prompt = temp_load.format(city='부산', adj='가장 멋진', topic='박물관')\n",
    "prompt"
   ]
  },
  {
   "cell_type": "markdown",
   "id": "03aa3477",
   "metadata": {},
   "source": [
    "# ChatPromptTemplate"
   ]
  },
  {
   "cell_type": "code",
   "execution_count": null,
   "id": "2b48bf21",
   "metadata": {},
   "outputs": [
    {
     "data": {
      "text/plain": [
       "ChatPromptTemplate(input_variables=['place', 'question', 'travel', 'when'], input_types={}, partial_variables={}, messages=[SystemMessagePromptTemplate(prompt=PromptTemplate(input_variables=[], input_types={}, partial_variables={}, template='당신은 베테랑 여행 가이드입니다. 고객 맞춤 여행 일정 수립을 도와줍니다.'), additional_kwargs={}), HumanMessagePromptTemplate(prompt=PromptTemplate(input_variables=['place', 'travel', 'when'], input_types={}, partial_variables={}, template='{when}에 {place}로 {travel}을 계획 중입니다.'), additional_kwargs={}), AIMessagePromptTemplate(prompt=PromptTemplate(input_variables=['place'], input_types={}, partial_variables={}, template='제가 {place}의 전문 여행 가이드입니다. 어떤 도움이 필요하신가요?'), additional_kwargs={}), HumanMessagePromptTemplate(prompt=PromptTemplate(input_variables=['question'], input_types={}, partial_variables={}, template='{question}'), additional_kwargs={})])"
      ]
     },
     "metadata": {},
     "output_type": "display_data"
    }
   ],
   "source": [
    "from langchain.prompts import ChatPromptTemplate\n",
    "# 대화식 프롬프트\n",
    "chat_template = ChatPromptTemplate.from_messages(\n",
    "                    [\n",
    "                        ('system', '당신은 베테랑 여행 가이드입니다. 고객 맞춤 여행 일정 수립을 도와줍니다.'),\n",
    "                        ('human', '{when}에 {place}로 {travel}을 계획 중입니다.'),\n",
    "                        ('ai', '제가 {place}의 전문 여행 가이드입니다. 어떤 도움이 필요하신가요?'),\n",
    "                        ('human', '{question}')\n",
    "                    ]\n",
    "                )\n",
    "chat_template"
   ]
  },
  {
   "cell_type": "code",
   "execution_count": null,
   "id": "0829d19e",
   "metadata": {},
   "outputs": [
    {
     "data": {
      "text/plain": [
       "[SystemMessage(content='당신은 베테랑 여행 가이드입니다. 고객 맞춤 여행 일정 수립을 도와줍니다.', additional_kwargs={}, response_metadata={}),\n",
       " HumanMessage(content='가을에 핀란드로 자유여행을 계획 중입니다.', additional_kwargs={}, response_metadata={}),\n",
       " AIMessage(content='제가 핀란드의 전문 여행 가이드입니다. 어떤 도움이 필요하신가요?', additional_kwargs={}, response_metadata={}),\n",
       " HumanMessage(content='오로라를 볼 수 있는 여행지와 분위기 좋은 현지 레스토랑을 3곳씩 추천해줘', additional_kwargs={}, response_metadata={})]"
      ]
     },
     "metadata": {},
     "output_type": "display_data"
    }
   ],
   "source": [
    "final_prompt = chat_template.format_messages(when='가을', place='핀란드', travel='자유여행', question='오로라를 볼 수 있는 여행지와 분위기 좋은 현지 레스토랑을 3곳씩 추천해줘')\n",
    "final_prompt"
   ]
  },
  {
   "cell_type": "code",
   "execution_count": null,
   "id": "a8fd5427",
   "metadata": {},
   "outputs": [
    {
     "data": {
      "text/plain": [
       "AIMessage(content='핀란드는 오로라 관측에 최적의 장소로 유명하며, 분위기 좋은 레스토랑들도 많이 있습니다. 다음은 추천하는 오로라 관측지와 레스토랑입니다.\\n\\n### 오로라 관측 추천지\\n1. **로바니에미 (Rovaniemi)**\\n   - 핀란드의 공식적인 산타 마을이며, 오로라 관측이 용이합니다. 일년 내내 다양한 액티비티와 함께 오로라를 감상할 수 있습니다.\\n\\n2. **사리셀카 (Saariselkä)**\\n   - 북부 핀란드의 작은 마을로, 특히 가을과 겨울 동안 맑은 날씨가 많아 오로라를 잘 볼 수 있는 지역입니다. 자연 속에서 힐링을 즐길 수 있습니다.\\n\\n3. **무레마 (Muonio)**\\n   - 핀란드와 스웨덴 국경 근처에 위치해 있으며, 오로라 관측하기 좋은 장소 중 하나입니다. 조용하고 한적한 환경에서 오로라를 감상할 수 있습니다.\\n\\n### 분위기 좋은 현지 레스토랑\\n1. **Kota Restaurant (로바니에미)**\\n   - 전통적인 핀란드식 코타(텐트)에서 식사를 즐길 수 있는 레스토랑입니다. 지역 재료로 만든 요리를 제공하며, 아늑한 분위기에서 따뜻한 식사를 할 수 있습니다.\\n\\n2. **Restaurant Aanaar (사리셀카)**\\n   - 현대적인 느낌의 핀란드 요리를 제공하는 레스토랑으로, 고품질의 지역 재료를 사용한 창의적인 메뉴가 특징입니다. 아름다운 자연경관과 함께 식사를 즐길 수 있습니다.\\n\\n3. **Köökkis (무레마)**\\n   - 지역 음식을 현대적인 스타일로 재해석한 레스토랑으로, 따뜻한 분위기 속에서 핀란드 전통 요리를 맛볼 수 있습니다. 친절한 서비스와 아늑한 인테리어가 매력적입니다.\\n\\n이 일정을 참고하여 오로라와 핀란드의 멋진 음식을 만끽하시길 바랍니다! 추가로 궁금한 점이 있으시면 언제든지 말씀해 주세요.', additional_kwargs={'refusal': None}, response_metadata={'token_usage': {'completion_tokens': 495, 'prompt_tokens': 106, 'total_tokens': 601, 'completion_tokens_details': {'accepted_prediction_tokens': 0, 'audio_tokens': 0, 'reasoning_tokens': 0, 'rejected_prediction_tokens': 0}, 'prompt_tokens_details': {'audio_tokens': 0, 'cached_tokens': 0}}, 'model_name': 'gpt-4o-mini-2024-07-18', 'system_fingerprint': 'fp_8bda4d3a2c', 'id': 'chatcmpl-CDM6HC3vlj72HBFEs9OH4Hn69tqMb', 'service_tier': 'default', 'finish_reason': 'stop', 'logprobs': None}, id='run--a7632071-e9e9-4be7-9c9e-3facf443dfec-0', usage_metadata={'input_tokens': 106, 'output_tokens': 495, 'total_tokens': 601, 'input_token_details': {'audio': 0, 'cache_read': 0}, 'output_token_details': {'audio': 0, 'reasoning': 0}})"
      ]
     },
     "metadata": {},
     "output_type": "display_data"
    }
   ],
   "source": [
    "final_response = llm.invoke(final_prompt)\n",
    "final_response"
   ]
  },
  {
   "cell_type": "code",
   "execution_count": null,
   "id": "c222dd68",
   "metadata": {},
   "outputs": [
    {
     "name": "stdout",
     "output_type": "stream",
     "text": [
      "핀란드는 오로라 관측에 최적의 장소로 유명하며, 분위기 좋은 레스토랑들도 많이 있습니다. 다음은 추천하는 오로라 관측지와 레스토랑입니다.\n",
      "\n",
      "### 오로라 관측 추천지\n",
      "1. **로바니에미 (Rovaniemi)**\n",
      "   - 핀란드의 공식적인 산타 마을이며, 오로라 관측이 용이합니다. 일년 내내 다양한 액티비티와 함께 오로라를 감상할 수 있습니다.\n",
      "\n",
      "2. **사리셀카 (Saariselkä)**\n",
      "   - 북부 핀란드의 작은 마을로, 특히 가을과 겨울 동안 맑은 날씨가 많아 오로라를 잘 볼 수 있는 지역입니다. 자연 속에서 힐링을 즐길 수 있습니다.\n",
      "\n",
      "3. **무레마 (Muonio)**\n",
      "   - 핀란드와 스웨덴 국경 근처에 위치해 있으며, 오로라 관측하기 좋은 장소 중 하나입니다. 조용하고 한적한 환경에서 오로라를 감상할 수 있습니다.\n",
      "\n",
      "### 분위기 좋은 현지 레스토랑\n",
      "1. **Kota Restaurant (로바니에미)**\n",
      "   - 전통적인 핀란드식 코타(텐트)에서 식사를 즐길 수 있는 레스토랑입니다. 지역 재료로 만든 요리를 제공하며, 아늑한 분위기에서 따뜻한 식사를 할 수 있습니다.\n",
      "\n",
      "2. **Restaurant Aanaar (사리셀카)**\n",
      "   - 현대적인 느낌의 핀란드 요리를 제공하는 레스토랑으로, 고품질의 지역 재료를 사용한 창의적인 메뉴가 특징입니다. 아름다운 자연경관과 함께 식사를 즐길 수 있습니다.\n",
      "\n",
      "3. **Köökkis (무레마)**\n",
      "   - 지역 음식을 현대적인 스타일로 재해석한 레스토랑으로, 따뜻한 분위기 속에서 핀란드 전통 요리를 맛볼 수 있습니다. 친절한 서비스와 아늑한 인테리어가 매력적입니다.\n",
      "\n",
      "이 일정을 참고하여 오로라와 핀란드의 멋진 음식을 만끽하시길 바랍니다! 추가로 궁금한 점이 있으시면 언제든지 말씀해 주세요.\n"
     ]
    }
   ],
   "source": [
    "print(final_response.content)"
   ]
  },
  {
   "cell_type": "code",
   "execution_count": null,
   "id": "7e305e28",
   "metadata": {},
   "outputs": [
    {
     "data": {
      "text/plain": [
       "'당신은 슬로베니아 베테랑 여행 가이드입니다. 고객 맞춤 여행 일정 수립을 도와줍니다.11월에 우정여행을 계획 중입니다.'"
      ]
     },
     "metadata": {},
     "output_type": "display_data"
    }
   ],
   "source": [
    "prompt_1 = PromptTemplate.from_template('당신은 {place} 베테랑 여행 가이드입니다. 고객 맞춤 여행 일정 수립을 도와줍니다.')\n",
    "prompt_2 = PromptTemplate.from_template('{when}에 {travel}을 계획 중입니다.')\n",
    "\n",
    "concat_prompt = prompt_1 + prompt_2\n",
    "concat_prompt.format(place='슬로베니아', travel='우정여행', when='11월')"
   ]
  }
 ],
 "metadata": {
  "kernelspec": {
   "display_name": "prompting_env",
   "language": "python",
   "name": "python3"
  },
  "language_info": {
   "name": "python",
   "version": "3.12.11"
  }
 },
 "nbformat": 4,
 "nbformat_minor": 5
}
