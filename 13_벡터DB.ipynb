{
 "cells": [
  {
   "cell_type": "markdown",
   "id": "ba8666b2",
   "metadata": {},
   "source": []
  },
  {
   "cell_type": "code",
   "execution_count": 5,
   "id": "078bfc78",
   "metadata": {},
   "outputs": [],
   "source": [
    "from dotenv import load_dotenv\n",
    "import os\n",
    "load_dotenv()\n",
    "pinecone_api_key = os.getenv(\"PINECONE_API_KEY\")"
   ]
  },
  {
   "cell_type": "markdown",
   "id": "929ab54f",
   "metadata": {},
   "source": [
    "# index 생성"
   ]
  },
  {
   "cell_type": "code",
   "execution_count": 6,
   "id": "99962542",
   "metadata": {},
   "outputs": [],
   "source": [
    "from pinecone import Pinecone\n",
    "# 클라이언트 생성\n",
    "pinecone_client = Pinecone(api_key=pinecone_api_key)"
   ]
  },
  {
   "cell_type": "code",
   "execution_count": 7,
   "id": "ea79d898",
   "metadata": {},
   "outputs": [
    {
     "data": {
      "text/plain": [
       "<pinecone.pinecone.Pinecone at 0x2b130b5c140>"
      ]
     },
     "execution_count": 7,
     "metadata": {},
     "output_type": "execute_result"
    }
   ],
   "source": [
    "pinecone_client"
   ]
  },
  {
   "cell_type": "markdown",
   "id": "e0051d92",
   "metadata": {},
   "source": [
    "## 클라이언트.create_index"
   ]
  },
  {
   "cell_type": "code",
   "execution_count": 5,
   "id": "c477e537",
   "metadata": {},
   "outputs": [
    {
     "data": {
      "text/plain": [
       "{\n",
       "    \"name\": \"embedding-3d\",\n",
       "    \"metric\": \"cosine\",\n",
       "    \"host\": \"embedding-3d-te99u8p.svc.aped-4627-b74a.pinecone.io\",\n",
       "    \"spec\": {\n",
       "        \"serverless\": {\n",
       "            \"cloud\": \"aws\",\n",
       "            \"region\": \"us-east-1\"\n",
       "        }\n",
       "    },\n",
       "    \"status\": {\n",
       "        \"ready\": true,\n",
       "        \"state\": \"Ready\"\n",
       "    },\n",
       "    \"vector_type\": \"dense\",\n",
       "    \"dimension\": 3,\n",
       "    \"deletion_protection\": \"disabled\",\n",
       "    \"tags\": null\n",
       "}"
      ]
     },
     "execution_count": 5,
     "metadata": {},
     "output_type": "execute_result"
    }
   ],
   "source": [
    "from pinecone import ServerlessSpec\n",
    "pinecone_client.create_index(\n",
    "    name='embedding-3d',\n",
    "    dimension=3,\n",
    "    metric='cosine',\n",
    "    spec=ServerlessSpec(\n",
    "        cloud='aws',\n",
    "        region='us-east-1'\n",
    "    )\n",
    ")"
   ]
  },
  {
   "cell_type": "code",
   "execution_count": 8,
   "id": "71d66135",
   "metadata": {},
   "outputs": [
    {
     "name": "stderr",
     "output_type": "stream",
     "text": [
      "c:\\Users\\Admin\\miniconda3\\envs\\prompting_env\\Lib\\site-packages\\tqdm\\auto.py:21: TqdmWarning: IProgress not found. Please update jupyter and ipywidgets. See https://ipywidgets.readthedocs.io/en/stable/user_install.html\n",
      "  from .autonotebook import tqdm as notebook_tqdm\n"
     ]
    },
    {
     "data": {
      "text/plain": [
       "<pinecone.db_data.index.Index at 0x2b1315411f0>"
      ]
     },
     "execution_count": 8,
     "metadata": {},
     "output_type": "execute_result"
    }
   ],
   "source": [
    "index = pinecone_client.Index('embedding-3d')\n",
    "index"
   ]
  },
  {
   "cell_type": "code",
   "execution_count": 7,
   "id": "a6da328b",
   "metadata": {},
   "outputs": [
    {
     "data": {
      "text/plain": [
       "{'dimension': 3,\n",
       " 'index_fullness': 0.0,\n",
       " 'metric': 'cosine',\n",
       " 'namespaces': {},\n",
       " 'total_vector_count': 0,\n",
       " 'vector_type': 'dense'}"
      ]
     },
     "execution_count": 7,
     "metadata": {},
     "output_type": "execute_result"
    }
   ],
   "source": [
    "index.describe_index_stats()"
   ]
  },
  {
   "cell_type": "code",
   "execution_count": 9,
   "id": "1c4d8384",
   "metadata": {},
   "outputs": [],
   "source": [
    "for ids in index.list(namespace='embedding-3d-ns1'):\n",
    "    print(ids)"
   ]
  },
  {
   "cell_type": "markdown",
   "id": "604638ea",
   "metadata": {},
   "source": [
    "# pinecone data 형식\n",
    "```\n",
    "[\n",
    "    {'id': 'vec1', 'values': [1.0, 1.5, 2.0], 'metadata': {'genre':'drama'}},\n",
    "    {'id': 'vec2', 'values': [2.0, 1.5, 0.5], 'metadata': {'genre':'action'}},\n",
    "    {'id': 'vec3', 'values': [0.1, 0.3, 0.5], 'metadata': {'genre':'drama'}},\n",
    "    {'id': 'vec4', 'values': [1.0, 2.5, 3.5], 'metadata': {'genre':'action'}},\n",
    "    {'id': 'vec5', 'values': [3.0, 1.2, 1.3], 'metadata': {'genre':'action'}},\n",
    "    {'id': 'vec6', 'values': [0.3, 1.1, 2.5], 'metadata': {'genre':'drama'}},\n",
    "]\n",
    "```"
   ]
  },
  {
   "cell_type": "code",
   "execution_count": 10,
   "id": "fdb0a216",
   "metadata": {},
   "outputs": [
    {
     "data": {
      "text/plain": [
       "{'upserted_count': 6}"
      ]
     },
     "execution_count": 10,
     "metadata": {},
     "output_type": "execute_result"
    }
   ],
   "source": [
    "index.upsert(\n",
    "    vectors=[\n",
    "        {'id': 'vec1', 'values': [1.0, 1.5, 2.0], 'metadata': {'genre':'drama'}},\n",
    "        {'id': 'vec2', 'values': [2.0, 1.5, 0.5], 'metadata': {'genre':'action'}},\n",
    "        {'id': 'vec3', 'values': [0.1, 0.3, 0.5], 'metadata': {'genre':'drama'}},\n",
    "        {'id': 'vec4', 'values': [1.0, 2.5, 3.5], 'metadata': {'genre':'action'}},\n",
    "        {'id': 'vec5', 'values': [3.0, 1.2, 1.3], 'metadata': {'genre':'action'}},\n",
    "        {'id': 'vec6', 'values': [0.3, 1.1, 2.5], 'metadata': {'genre':'drama'}},\n",
    "    ],\n",
    "    namespace='embedding-3d-ns1'\n",
    ")  # update + insert"
   ]
  },
  {
   "cell_type": "code",
   "execution_count": 9,
   "id": "17d6e969",
   "metadata": {},
   "outputs": [
    {
     "data": {
      "text/plain": [
       "{'dimension': 3,\n",
       " 'index_fullness': 0.0,\n",
       " 'metric': 'cosine',\n",
       " 'namespaces': {'embedding-3d-ns1': {'vector_count': 6}},\n",
       " 'total_vector_count': 6,\n",
       " 'vector_type': 'dense'}"
      ]
     },
     "execution_count": 9,
     "metadata": {},
     "output_type": "execute_result"
    }
   ],
   "source": [
    "index.describe_index_stats()"
   ]
  },
  {
   "cell_type": "markdown",
   "id": "d509eb7c",
   "metadata": {},
   "source": [
    "# id list"
   ]
  },
  {
   "cell_type": "code",
   "execution_count": 10,
   "id": "0bf607ad",
   "metadata": {},
   "outputs": [
    {
     "name": "stdout",
     "output_type": "stream",
     "text": [
      "['vec1', 'vec2', 'vec3', 'vec4', 'vec5', 'vec6']\n"
     ]
    }
   ],
   "source": [
    "for ids in index.list(namespace='embedding-3d-ns1'):\n",
    "    print(ids)"
   ]
  },
  {
   "cell_type": "markdown",
   "id": "ba8bfd9b",
   "metadata": {},
   "source": [
    "# query"
   ]
  },
  {
   "cell_type": "code",
   "execution_count": null,
   "id": "4ebc4f3b",
   "metadata": {},
   "outputs": [
    {
     "data": {
      "text/plain": [
       "{'matches': [{'id': 'vec3',\n",
       "              'metadata': {'genre': 'drama'},\n",
       "              'score': 1.00008953,\n",
       "              'values': [0.1, 0.3, 0.5]},\n",
       "             {'id': 'vec6',\n",
       "              'metadata': {'genre': 'drama'},\n",
       "              'score': 0.99550879,\n",
       "              'values': [0.3, 1.1, 2.5]},\n",
       "             {'id': 'vec1',\n",
       "              'metadata': {'genre': 'drama'},\n",
       "              'score': 0.961182,\n",
       "              'values': [1.0, 1.5, 2.0]}],\n",
       " 'namespace': 'embedding-3d-ns1',\n",
       " 'usage': {'read_units': 1}}"
      ]
     },
     "execution_count": 11,
     "metadata": {},
     "output_type": "execute_result"
    }
   ],
   "source": [
    "response = index.query(\n",
    "    namespace='embedding-3d-ns1',\n",
    "    vector=[0.1, 0.4, 0.7],   # 질의 벡터\n",
    "    top_k=3,     # 가져올 결과 개수\n",
    "    include_values=True,\n",
    "    include_metadata=True,\n",
    "    filter={'genre':{'$eq':'drama'}}\n",
    ")\n",
    "response"
   ]
  },
  {
   "cell_type": "code",
   "execution_count": 12,
   "id": "fb1e12f2",
   "metadata": {},
   "outputs": [
    {
     "name": "stdout",
     "output_type": "stream",
     "text": [
      "['vec1', 'vec2', 'vec3', 'vec4', 'vec5', 'vec6']\n"
     ]
    }
   ],
   "source": [
    "ns = 'embedding-3d-ns1'\n",
    "for ids in index.list(namespace=ns):\n",
    "    print(ids)"
   ]
  },
  {
   "cell_type": "markdown",
   "id": "886f780d",
   "metadata": {},
   "source": [
    "# fetch"
   ]
  },
  {
   "cell_type": "code",
   "execution_count": 14,
   "id": "687a5aa4",
   "metadata": {},
   "outputs": [],
   "source": [
    "from itertools import chain\n",
    "all_ids = list(chain.from_iterable(index.list(namespace=ns)))\n",
    "resp = index.fetch(ids=all_ids, namespace=ns)"
   ]
  },
  {
   "cell_type": "code",
   "execution_count": 15,
   "id": "6d751294",
   "metadata": {},
   "outputs": [
    {
     "data": {
      "text/plain": [
       "{'vec5': Vector(id='vec5', values=[3.0, 1.2, 1.3], metadata={'genre': 'action'}, sparse_values=None),\n",
       " 'vec4': Vector(id='vec4', values=[1.0, 2.5, 3.5], metadata={'genre': 'action'}, sparse_values=None),\n",
       " 'vec6': Vector(id='vec6', values=[0.3, 1.1, 2.5], metadata={'genre': 'drama'}, sparse_values=None),\n",
       " 'vec2': Vector(id='vec2', values=[2.0, 1.5, 0.5], metadata={'genre': 'action'}, sparse_values=None),\n",
       " 'vec3': Vector(id='vec3', values=[0.1, 0.3, 0.5], metadata={'genre': 'drama'}, sparse_values=None),\n",
       " 'vec1': Vector(id='vec1', values=[1.0, 1.5, 2.0], metadata={'genre': 'drama'}, sparse_values=None)}"
      ]
     },
     "execution_count": 15,
     "metadata": {},
     "output_type": "execute_result"
    }
   ],
   "source": [
    "resp.vectors"
   ]
  },
  {
   "cell_type": "code",
   "execution_count": 16,
   "id": "4df1403f",
   "metadata": {},
   "outputs": [],
   "source": [
    "for vid, v in resp.vectors.items():\n",
    "    vid, v.values"
   ]
  },
  {
   "cell_type": "markdown",
   "id": "cf94b1b1",
   "metadata": {},
   "source": [
    "# page - 1개 벡터씩 꺼내기"
   ]
  },
  {
   "cell_type": "code",
   "execution_count": 19,
   "id": "24f4b7e9",
   "metadata": {},
   "outputs": [
    {
     "name": "stdout",
     "output_type": "stream",
     "text": [
      "vec4 [1.0, 2.5, 3.5]\n",
      "vec3 [0.1, 0.3, 0.5]\n",
      "vec2 [2.0, 1.5, 0.5]\n",
      "vec6 [0.3, 1.1, 2.5]\n",
      "vec1 [1.0, 1.5, 2.0]\n",
      "vec5 [3.0, 1.2, 1.3]\n"
     ]
    }
   ],
   "source": [
    "for id_page in index.list(namespace=ns):\n",
    "    resp = index.fetch(ids=id_page, namespace=ns)\n",
    "    \n",
    "    for vid, v in resp.vectors.items():\n",
    "        print(vid, v.values)\n",
    "    "
   ]
  },
  {
   "cell_type": "markdown",
   "id": "f2a3191b",
   "metadata": {},
   "source": [
    "# 새로운 쿼리벡터 추가"
   ]
  },
  {
   "cell_type": "code",
   "execution_count": 21,
   "id": "e76610fb",
   "metadata": {},
   "outputs": [],
   "source": [
    "ids = list(resp.vectors.keys())\n",
    "values = [vec.values for vec in resp.vectors.values()]"
   ]
  },
  {
   "cell_type": "code",
   "execution_count": 22,
   "id": "70c5086c",
   "metadata": {},
   "outputs": [],
   "source": [
    "ids.append('qv')\n",
    "values.append([0.1, 0.3, 0.7])"
   ]
  },
  {
   "cell_type": "markdown",
   "id": "8490cbc3",
   "metadata": {},
   "source": [
    "# 시각화"
   ]
  },
  {
   "cell_type": "code",
   "execution_count": null,
   "id": "19a6c047",
   "metadata": {},
   "outputs": [],
   "source": [
    "!pip install matplotlib"
   ]
  },
  {
   "cell_type": "code",
   "execution_count": 24,
   "id": "f02ac059",
   "metadata": {},
   "outputs": [
    {
     "data": {
      "image/png": "[encoded data removed]",
      "text/plain": [
       "<Figure size 640x480 with 1 Axes>"
      ]
     },
     "metadata": {},
     "output_type": "display_data"
    }
   ],
   "source": [
    "import matplotlib.pyplot as plt\n",
    "\n",
    "# 3D 플롯을 생성합니다.\n",
    "fig = plt.figure()\n",
    "ax = fig.add_subplot(111, projection='3d')\n",
    "\n",
    "# 각 벡터의 ID와 값을 사용하여 3D 공간에 점을 그립니다.\n",
    "for i, id in enumerate(ids):\n",
    "    if id == \"qv\":\n",
    "        # 쿼리 벡터는 노란색 사각형으로 표시합니다.\n",
    "        ax.scatter(values[i][0], values[i][1], values[i][2], label=id, color='y', s=50, marker='s')\n",
    "        ax.text(values[i][0] + 0.1, values[i][1] + 0.1, values[i][2] + 0.1, id)\n",
    "    else:\n",
    "        # 나머지 벡터는 기본 색상으로 표시합니다.\n",
    "        ax.scatter(values[i][0], values[i][1], values[i][2], label=id)\n",
    "        ax.text(values[i][0] + 0.1, values[i][1] + 0.1, values[i][2] + 0.1, id)\n",
    "\n",
    "# 축 레이블과 제목을 설정합니다.\n",
    "ax.set_xlabel('X')\n",
    "ax.set_ylabel('Y')\n",
    "ax.set_zlabel('Z')\n",
    "ax.set_title('Embedding Vector Space')\n",
    "\n",
    "# 플롯을 표시합니다.\n",
    "plt.show()"
   ]
  },
  {
   "cell_type": "markdown",
   "id": "e3619e5f",
   "metadata": {},
   "source": [
    "name: \"quickstart\" 서버리스 인덱스 생성  \n",
    "dim: 1024"
   ]
  },
  {
   "cell_type": "code",
   "execution_count": 25,
   "id": "8e62a266",
   "metadata": {},
   "outputs": [
    {
     "data": {
      "text/plain": [
       "{\n",
       "    \"name\": \"quickstart\",\n",
       "    \"metric\": \"cosine\",\n",
       "    \"host\": \"quickstart-te99u8p.svc.aped-4627-b74a.pinecone.io\",\n",
       "    \"spec\": {\n",
       "        \"serverless\": {\n",
       "            \"cloud\": \"aws\",\n",
       "            \"region\": \"us-east-1\"\n",
       "        }\n",
       "    },\n",
       "    \"status\": {\n",
       "        \"ready\": true,\n",
       "        \"state\": \"Ready\"\n",
       "    },\n",
       "    \"vector_type\": \"dense\",\n",
       "    \"dimension\": 1024,\n",
       "    \"deletion_protection\": \"disabled\",\n",
       "    \"tags\": null\n",
       "}"
      ]
     },
     "execution_count": 25,
     "metadata": {},
     "output_type": "execute_result"
    }
   ],
   "source": [
    "from pinecone import ServerlessSpec\n",
    "pinecone_client.create_index(\n",
    "    name='quickstart',\n",
    "    dimension=1024,\n",
    "    metric='cosine',\n",
    "    spec=ServerlessSpec(\n",
    "        cloud='aws',\n",
    "        region='us-east-1'\n",
    "    )\n",
    ")"
   ]
  },
  {
   "cell_type": "code",
   "execution_count": 26,
   "id": "01d6ade5",
   "metadata": {},
   "outputs": [
    {
     "data": {
      "text/plain": [
       "<pinecone.db_data.index.Index at 0x2b131738bf0>"
      ]
     },
     "execution_count": 26,
     "metadata": {},
     "output_type": "execute_result"
    }
   ],
   "source": [
    "index_quickstart = pinecone_client.Index('quickstart')\n",
    "index_quickstart"
   ]
  },
  {
   "cell_type": "code",
   "execution_count": 31,
   "id": "a2c668f2",
   "metadata": {},
   "outputs": [],
   "source": [
    "data = [\n",
    "    {\"id\": \"vec1\", \"text\": \"사과는 달콤하고 아삭한 식감으로 유명한 인기 있는 과일입니다.\"},\n",
    "    {\"id\": \"vec2\", \"text\": \"애플이라는 기술 회사는 아이폰과 같은 혁신적인 제품으로 유명합니다.\"},\n",
    "    {\"id\": \"vec3\", \"text\": \"많은 사람들이 건강한 간식으로 사과를 즐겨 먹습니다.\"},\n",
    "    {\"id\": \"vec4\", \"text\": \"애플 주식회사는 세련된 디자인과 사용자 친화적인 인터페이스로 기술 산업을 혁신했습니다.\"},\n",
    "    {\"id\": \"vec5\", \"text\": \"하루에 사과 하나면 의사를 멀리할 수 있다는 속담이 있습니다.\"},\n",
    "    {\"id\": \"vec6\", \"text\": \"애플 컴퓨터 회사는 1976년 4월 1일 스티브 잡스, 스티브 워즈니악, 로널드 웨인에 의해 파트너십으로 설립되었습니다.\"},\n",
    "    {\"id\": \"vec7\", \"text\": \"사과 파이는 따뜻한 향과 바삭한 크러스트로 많은 이들의 디저트로 사랑받습니다.\"},\n",
    "    {\"id\": \"vec8\", \"text\": \"애플은 iOS 운영체제와 앱 스토어로 모바일 생태계를 구축했습니다.\"},\n",
    "    {\"id\": \"vec9\", \"text\": \"사과에는 식이섬유와 비타민 C가 풍부해 상큼하고 포만감을 줍니다.\"},\n",
    "    {\"id\": \"vec10\", \"text\": \"애플의 맥북은 가벼운 무게와 긴 배터리 시간으로 휴대성이 좋다고 평가됩니다.\"},\n",
    "    {\"id\": \"vec11\", \"text\": \"가을이면 과수원에서 잘 익은 사과를 직접 수확하는 체험이 인기를 끕니다.\"},\n",
    "    {\"id\": \"vec12\", \"text\": \"애플 워치는 건강 측정과 알림 기능으로 일상 생활에서 자주 활용됩니다.\"},\n",
    "    {\"id\": \"vec13\", \"text\": \"사과즙과 애플 사이다 식초는 요리와 음료에 다양하게 사용됩니다.\"},\n",
    "    {\"id\": \"vec14\", \"text\": \"애플은 하드웨어와 소프트웨어, 서비스를 긴밀히 통합한 생태계 전략을 펼칩니다.\"},\n",
    "    {\"id\": \"vec15\", \"text\": \"사과를 껍질째 먹으면 식이섬유 섭취량을 더 늘릴 수 있습니다.\"}\n",
    "]"
   ]
  },
  {
   "cell_type": "markdown",
   "id": "226e3798",
   "metadata": {},
   "source": [
    "임베딩 모델   \n",
    "- multilingual-e5-large\n",
    "- upsert()\n",
    "- describe_index_stats()\n",
    "- query_vector: \"애플이라는 기술 회사에 대해 알려주세요\"\n",
    "- index.query()"
   ]
  },
  {
   "cell_type": "code",
   "execution_count": 29,
   "id": "3c3d83cd",
   "metadata": {},
   "outputs": [
    {
     "name": "stderr",
     "output_type": "stream",
     "text": [
      "c:\\Users\\Admin\\miniconda3\\envs\\prompting_env\\Lib\\site-packages\\huggingface_hub\\file_download.py:143: UserWarning: `huggingface_hub` cache-system uses symlinks by default to efficiently store duplicated files but your machine does not support them in C:\\Users\\Admin\\.cache\\huggingface\\hub\\models--intfloat--multilingual-e5-large. Caching files will still work but in a degraded version that might require more space on your disk. This warning can be disabled by setting the `HF_HUB_DISABLE_SYMLINKS_WARNING` environment variable. For more details, see https://huggingface.co/docs/huggingface_hub/how-to-cache#limitations.\n",
      "To support symlinks on Windows, you either need to activate Developer Mode or to run Python as an administrator. In order to activate developer mode, see this article: https://docs.microsoft.com/en-us/windows/apps/get-started/enable-your-device-for-development\n",
      "  warnings.warn(message)\n",
      "Xet Storage is enabled for this repo, but the 'hf_xet' package is not installed. Falling back to regular HTTP download. For better performance, install the package with: `pip install huggingface_hub[hf_xet]` or `pip install hf_xet`\n",
      "Xet Storage is enabled for this repo, but the 'hf_xet' package is not installed. Falling back to regular HTTP download. For better performance, install the package with: `pip install huggingface_hub[hf_xet]` or `pip install hf_xet`\n",
      "Xet Storage is enabled for this repo, but the 'hf_xet' package is not installed. Falling back to regular HTTP download. For better performance, install the package with: `pip install huggingface_hub[hf_xet]` or `pip install hf_xet`\n"
     ]
    }
   ],
   "source": [
    "from sentence_transformers import SentenceTransformer\n",
    "\n",
    "model = SentenceTransformer(\"intfloat/multilingual-e5-large\")"
   ]
  },
  {
   "cell_type": "code",
   "execution_count": null,
   "id": "5568ff97",
   "metadata": {},
   "outputs": [
    {
     "data": {
      "text/plain": [
       "1024"
      ]
     },
     "execution_count": 32,
     "metadata": {},
     "output_type": "execute_result"
    }
   ],
   "source": [
    "change = [f\"change: {d['text']}\" for d in data]\n",
    "embeddings = model.encode(change, normalize_embeddings=True).tolist()\n",
    "len(embeddings[0])"
   ]
  },
  {
   "cell_type": "code",
   "execution_count": 33,
   "id": "ea08cf5d",
   "metadata": {},
   "outputs": [],
   "source": [
    "vectors = [\n",
    "    {\"id\": d[\"id\"], \"values\": e, \"metadata\": {\"text\": d[\"text\"]}}\n",
    "    for d, e in zip(data, embeddings)\n",
    "]"
   ]
  },
  {
   "cell_type": "code",
   "execution_count": 34,
   "id": "1c9d9dc8",
   "metadata": {},
   "outputs": [
    {
     "data": {
      "text/plain": [
       "{'upserted_count': 15}"
      ]
     },
     "execution_count": 34,
     "metadata": {},
     "output_type": "execute_result"
    }
   ],
   "source": [
    "index_quickstart.upsert(vectors=vectors, namespace=\"quickstart-ns1\")"
   ]
  },
  {
   "cell_type": "code",
   "execution_count": 35,
   "id": "59538b64",
   "metadata": {},
   "outputs": [
    {
     "data": {
      "text/plain": [
       "{'dimension': 1024,\n",
       " 'index_fullness': 0.0,\n",
       " 'metric': 'cosine',\n",
       " 'namespaces': {'quickstart-ns1': {'vector_count': 15}},\n",
       " 'total_vector_count': 15,\n",
       " 'vector_type': 'dense'}"
      ]
     },
     "execution_count": 35,
     "metadata": {},
     "output_type": "execute_result"
    }
   ],
   "source": [
    "index_quickstart.describe_index_stats()"
   ]
  },
  {
   "cell_type": "code",
   "execution_count": 40,
   "id": "278a9bef",
   "metadata": {},
   "outputs": [
    {
     "data": {
      "text/plain": [
       "{'matches': [{'id': 'vec2',\n",
       "              'metadata': {'text': '애플이라는 기술 회사는 아이폰과 같은 혁신적인 제품으로 유명합니다.'},\n",
       "              'score': 0.897493362,\n",
       "              'values': []},\n",
       "             {'id': 'vec4',\n",
       "              'metadata': {'text': '애플 주식회사는 세련된 디자인과 사용자 친화적인 인터페이스로 기술 산업을 '\n",
       "                                   '혁신했습니다.'},\n",
       "              'score': 0.88274765,\n",
       "              'values': []},\n",
       "             {'id': 'vec6',\n",
       "              'metadata': {'text': '애플 컴퓨터 회사는 1976년 4월 1일 스티브 잡스, 스티브 워즈니악, '\n",
       "                                   '로널드 웨인에 의해 파트너십으로 설립되었습니다.'},\n",
       "              'score': 0.866777301,\n",
       "              'values': []}],\n",
       " 'namespace': 'quickstart-ns1',\n",
       " 'usage': {'read_units': 1}}"
      ]
     },
     "execution_count": 40,
     "metadata": {},
     "output_type": "execute_result"
    }
   ],
   "source": [
    "query_vector = \"애플이라는 기술 회사에 대해 알려주세요\"\n",
    "emb = model.encode(f\"query: {query_vector}\", normalize_embeddings=True).tolist()\n",
    "\n",
    "res = index_quickstart.query(\n",
    "    vector=emb,\n",
    "    top_k=3,\n",
    "    include_metadata=True,\n",
    "    namespace=\"quickstart-ns1\"\n",
    ")\n",
    "\n",
    "res"
   ]
  },
  {
   "cell_type": "code",
   "execution_count": null,
   "id": "6dfda7a7",
   "metadata": {},
   "outputs": [],
   "source": []
  }
 ],
 "metadata": {
  "kernelspec": {
   "display_name": "prompting_env",
   "language": "python",
   "name": "python3"
  },
  "language_info": {
   "codemirror_mode": {
    "name": "ipython",
    "version": 3
   },
   "file_extension": ".py",
   "mimetype": "text/x-python",
   "name": "python",
   "nbconvert_exporter": "python",
   "pygments_lexer": "ipython3",
   "version": "3.12.11"
  }
 },
 "nbformat": 4,
 "nbformat_minor": 5
}
